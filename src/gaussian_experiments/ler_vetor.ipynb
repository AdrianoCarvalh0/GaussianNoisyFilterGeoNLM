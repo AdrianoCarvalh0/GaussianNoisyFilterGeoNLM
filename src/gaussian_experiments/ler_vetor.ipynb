{
 "cells": [
  {
   "cell_type": "code",
   "execution_count": 3,
   "id": "0442e1e1",
   "metadata": {},
   "outputs": [
    {
     "name": "stderr",
     "output_type": "stream",
     "text": [
      "/tmp/ipykernel_120936/1687969221.py:25: FutureWarning: DataFrame.applymap has been deprecated. Use DataFrame.map instead.\n",
      "  df = df.applymap(lambda x: float(x) if isinstance(x, (np.floating,)) else x)\n"
     ]
    },
    {
     "data": {
      "text/plain": [
       "'gaussian_results_full.xlsx'"
      ]
     },
     "execution_count": 3,
     "metadata": {},
     "output_type": "execute_result"
    }
   ],
   "source": [
    "from skimage.restoration import estimate_sigma\n",
    "import sys\n",
    "import numpy as np\n",
    "import cupy as cp\n",
    "import skimage\n",
    "from Utils import (read_directories,save_pickle,save_results_to_xlsx,load_pickle)\n",
    "from noisy_functions import (add_low_noise_gaussian,add_moderate_noise_gaussian, add_high_noise_gaussian)    \n",
    "from nlm_functions import (compute_adaptive_q,select_best_h_using_adaptive_q)   \n",
    "import pandas as pd\n",
    "import numpy as np\n",
    "\n",
    "\n",
    "\n",
    "vetor_result = load_pickle(f'/workspace/src/gaussian_experiments/results_gaussian_gnlm_bm3d_high.pkl', \"object.pkl\")\n",
    "\n",
    "\n",
    "#from caas_jupyter_tools import display_dataframe_to_user\n",
    "\n",
    "# Rebuild the full dataset and save again (fixing the DataFrame conversion step)\n",
    "data = vetor_result\n",
    "\n",
    "df = pd.DataFrame(data)\n",
    "\n",
    "# Apply elementwise coercion (correct method: applymap)\n",
    "df = df.applymap(lambda x: float(x) if isinstance(x, (np.floating,)) else x)\n",
    "\n",
    "# Column order\n",
    "preferred_cols = [\n",
    "    'file_name', 'estimated_sigma_gaussian',\n",
    "    'nlm_h', 'h_gnlm',\n",
    "    'psnr_nlm', 'psnr_gnlm', 'psnr_bm3d',\n",
    "    'ssim_nlm', 'ssim_gnlm', 'ssim_bm3d',\n",
    "    'score_nlm', 'score_gnlm', 'score_bm3d',\n",
    "    'time_geonlm', 'time_bm3d'\n",
    "]\n",
    "cols = [c for c in preferred_cols if c in df.columns] + [c for c in df.columns if c not in preferred_cols]\n",
    "df = df[cols]\n",
    "\n",
    "xlsx_path = \"gaussian_results_full.xlsx\"\n",
    "\n",
    "df.to_excel(xlsx_path, index=False, sheet_name=\"Results\")\n",
    "\n",
    "\n",
    "\n",
    "\n",
    "xlsx_path"
   ]
  },
  {
   "cell_type": "code",
   "execution_count": 2,
   "id": "1778abb0",
   "metadata": {},
   "outputs": [
    {
     "name": "stdout",
     "output_type": "stream",
     "text": [
      "/opt/conda/envs/gaussian/bin/python\n"
     ]
    }
   ],
   "source": [
    "import sys\n",
    "print(sys.executable)\n"
   ]
  }
 ],
 "metadata": {
  "kernelspec": {
   "display_name": "gaussian",
   "language": "python",
   "name": "python3"
  },
  "language_info": {
   "codemirror_mode": {
    "name": "ipython",
    "version": 3
   },
   "file_extension": ".py",
   "mimetype": "text/x-python",
   "name": "python",
   "nbconvert_exporter": "python",
   "pygments_lexer": "ipython3",
   "version": "3.10.14"
  }
 },
 "nbformat": 4,
 "nbformat_minor": 5
}
